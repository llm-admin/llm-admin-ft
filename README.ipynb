{
 "cells": [
  {
   "cell_type": "code",
   "execution_count": 1,
   "id": "22578b8a-9af3-4f98-b52d-4a34369585ba",
   "metadata": {
    "tags": []
   },
   "outputs": [],
   "source": [
    "from aviary.backend.server.app import LLMDeployment, RouterDeployment\n"
   ]
  },
  {
   "cell_type": "code",
   "execution_count": 2,
   "id": "bf4f365b-d053-4e30-bf77-6a14e36de318",
   "metadata": {
    "tags": []
   },
   "outputs": [
    {
     "data": {
      "text/plain": [
       "Deployment(name=LLMDeployment,version=None,route_prefix=/LLMDeployment)"
      ]
     },
     "execution_count": 2,
     "metadata": {},
     "output_type": "execute_result"
    }
   ],
   "source": [
    "LLMDeployment.options()\n"
   ]
  },
  {
   "cell_type": "code",
   "execution_count": 11,
   "id": "a05ab2fd-06b2-445b-8b2b-a2b86e47b437",
   "metadata": {
    "tags": []
   },
   "outputs": [],
   "source": [
    "from pydantic import BaseModel, root_validator\n",
    "from aviary.backend.server.models import BaseModelExtended\n",
    "\n",
    "\n",
    "class Model(BaseModelExtended):\n",
    "    arg: str = \"5\"\n",
    "    \n",
    "    @root_validator(pre=True)\n",
    "    @classmethod\n",
    "    def drop_legacy_gke_params(cls, values):\n",
    "        # values.pop(\"billing_account_id\", None)\n",
    "        # values.pop(\"folder_id\", None)\n",
    "        if isinstance(values, str):\n",
    "            return cls.parse_yaml(values)\n",
    "        else:\n",
    "            return values\n",
    "        \n",
    "            \n",
    "    \n",
    "    \n"
   ]
  },
  {
   "cell_type": "code",
   "execution_count": 12,
   "id": "945c2f24-d527-41ad-9855-04bc861f6da5",
   "metadata": {
    "tags": []
   },
   "outputs": [
    {
     "data": {
      "text/html": [
       "<pre style=\"white-space:pre;overflow-x:auto;line-height:normal;font-family:Menlo,'DejaVu Sans Mono',consolas,'Courier New',monospace\"><span style=\"color: #800000; text-decoration-color: #800000\">╭─────────────────────────────── </span><span style=\"color: #800000; text-decoration-color: #800000; font-weight: bold\">Traceback </span><span style=\"color: #bf7f7f; text-decoration-color: #bf7f7f; font-weight: bold\">(most recent call last)</span><span style=\"color: #800000; text-decoration-color: #800000\"> ────────────────────────────────╮</span>\n",
       "<span style=\"color: #800000; text-decoration-color: #800000\">│</span> in <span style=\"color: #00ff00; text-decoration-color: #00ff00\">pydantic.main.BaseModel.parse_obj</span>:<span style=\"color: #0000ff; text-decoration-color: #0000ff\">522</span>                                                         <span style=\"color: #800000; text-decoration-color: #800000\">│</span>\n",
       "<span style=\"color: #800000; text-decoration-color: #800000\">╰──────────────────────────────────────────────────────────────────────────────────────────────────╯</span>\n",
       "<span style=\"color: #ff0000; text-decoration-color: #ff0000; font-weight: bold\">ValueError: </span>dictionary update sequence element #<span style=\"color: #008080; text-decoration-color: #008080; font-weight: bold\">0</span> has length <span style=\"color: #008080; text-decoration-color: #008080; font-weight: bold\">1</span>; <span style=\"color: #008080; text-decoration-color: #008080; font-weight: bold\">2</span> is required\n",
       "\n",
       "<span style=\"font-style: italic\">The above exception was the direct cause of the following exception:</span>\n",
       "\n",
       "<span style=\"color: #800000; text-decoration-color: #800000\">╭─────────────────────────────── </span><span style=\"color: #800000; text-decoration-color: #800000; font-weight: bold\">Traceback </span><span style=\"color: #bf7f7f; text-decoration-color: #bf7f7f; font-weight: bold\">(most recent call last)</span><span style=\"color: #800000; text-decoration-color: #800000\"> ────────────────────────────────╮</span>\n",
       "<span style=\"color: #800000; text-decoration-color: #800000\">│</span> in <span style=\"color: #00ff00; text-decoration-color: #00ff00\">&lt;module&gt;</span>:<span style=\"color: #0000ff; text-decoration-color: #0000ff\">1</span>                                                                                    <span style=\"color: #800000; text-decoration-color: #800000\">│</span>\n",
       "<span style=\"color: #800000; text-decoration-color: #800000\">│</span>                                                                                                  <span style=\"color: #800000; text-decoration-color: #800000\">│</span>\n",
       "<span style=\"color: #800000; text-decoration-color: #800000\">│</span> <span style=\"color: #800000; text-decoration-color: #800000\">❱ </span>1 Model.parse_obj(<span style=\"color: #808000; text-decoration-color: #808000\">\"test.yaml\"</span>)                                                                 <span style=\"color: #800000; text-decoration-color: #800000\">│</span>\n",
       "<span style=\"color: #800000; text-decoration-color: #800000\">│</span>   <span style=\"color: #7f7f7f; text-decoration-color: #7f7f7f\">2 </span>                                                                                             <span style=\"color: #800000; text-decoration-color: #800000\">│</span>\n",
       "<span style=\"color: #800000; text-decoration-color: #800000\">│</span>                                                                                                  <span style=\"color: #800000; text-decoration-color: #800000\">│</span>\n",
       "<span style=\"color: #800000; text-decoration-color: #800000\">│</span> in <span style=\"color: #00ff00; text-decoration-color: #00ff00\">pydantic.main.BaseModel.parse_obj</span>:<span style=\"color: #0000ff; text-decoration-color: #0000ff\">525</span>                                                         <span style=\"color: #800000; text-decoration-color: #800000\">│</span>\n",
       "<span style=\"color: #800000; text-decoration-color: #800000\">╰──────────────────────────────────────────────────────────────────────────────────────────────────╯</span>\n",
       "<span style=\"color: #ff0000; text-decoration-color: #ff0000; font-weight: bold\">ValidationError: </span><span style=\"color: #008080; text-decoration-color: #008080; font-weight: bold\">1</span> validation error for Model\n",
       "__root__\n",
       "  Model expected dict not str <span style=\"font-weight: bold\">(</span><span style=\"color: #808000; text-decoration-color: #808000\">type</span>=<span style=\"color: #800080; text-decoration-color: #800080\">type_error</span><span style=\"font-weight: bold\">)</span>\n",
       "</pre>\n"
      ],
      "text/plain": [
       "\u001b[31m╭─\u001b[0m\u001b[31m──────────────────────────────\u001b[0m\u001b[31m \u001b[0m\u001b[1;31mTraceback \u001b[0m\u001b[1;2;31m(most recent call last)\u001b[0m\u001b[31m \u001b[0m\u001b[31m───────────────────────────────\u001b[0m\u001b[31m─╮\u001b[0m\n",
       "\u001b[31m│\u001b[0m in \u001b[92mpydantic.main.BaseModel.parse_obj\u001b[0m:\u001b[94m522\u001b[0m                                                         \u001b[31m│\u001b[0m\n",
       "\u001b[31m╰──────────────────────────────────────────────────────────────────────────────────────────────────╯\u001b[0m\n",
       "\u001b[1;91mValueError: \u001b[0mdictionary update sequence element #\u001b[1;36m0\u001b[0m has length \u001b[1;36m1\u001b[0m; \u001b[1;36m2\u001b[0m is required\n",
       "\n",
       "\u001b[3mThe above exception was the direct cause of the following exception:\u001b[0m\n",
       "\n",
       "\u001b[31m╭─\u001b[0m\u001b[31m──────────────────────────────\u001b[0m\u001b[31m \u001b[0m\u001b[1;31mTraceback \u001b[0m\u001b[1;2;31m(most recent call last)\u001b[0m\u001b[31m \u001b[0m\u001b[31m───────────────────────────────\u001b[0m\u001b[31m─╮\u001b[0m\n",
       "\u001b[31m│\u001b[0m in \u001b[92m<module>\u001b[0m:\u001b[94m1\u001b[0m                                                                                    \u001b[31m│\u001b[0m\n",
       "\u001b[31m│\u001b[0m                                                                                                  \u001b[31m│\u001b[0m\n",
       "\u001b[31m│\u001b[0m \u001b[31m❱ \u001b[0m1 Model.parse_obj(\u001b[33m\"\u001b[0m\u001b[33mtest.yaml\u001b[0m\u001b[33m\"\u001b[0m)                                                                 \u001b[31m│\u001b[0m\n",
       "\u001b[31m│\u001b[0m   \u001b[2m2 \u001b[0m                                                                                             \u001b[31m│\u001b[0m\n",
       "\u001b[31m│\u001b[0m                                                                                                  \u001b[31m│\u001b[0m\n",
       "\u001b[31m│\u001b[0m in \u001b[92mpydantic.main.BaseModel.parse_obj\u001b[0m:\u001b[94m525\u001b[0m                                                         \u001b[31m│\u001b[0m\n",
       "\u001b[31m╰──────────────────────────────────────────────────────────────────────────────────────────────────╯\u001b[0m\n",
       "\u001b[1;91mValidationError: \u001b[0m\u001b[1;36m1\u001b[0m validation error for Model\n",
       "__root__\n",
       "  Model expected dict not str \u001b[1m(\u001b[0m\u001b[33mtype\u001b[0m=\u001b[35mtype_error\u001b[0m\u001b[1m)\u001b[0m\n"
      ]
     },
     "metadata": {},
     "output_type": "display_data"
    }
   ],
   "source": [
    "Model.parse_obj(\"test.yaml\")\n"
   ]
  },
  {
   "cell_type": "code",
   "execution_count": 14,
   "id": "62ba29fa-8513-42f5-95cd-77a2945e4e40",
   "metadata": {
    "tags": []
   },
   "outputs": [],
   "source": [
    "from typing import List\n",
    "\n",
    "a = str | int\n",
    "b = [int]"
   ]
  },
  {
   "cell_type": "code",
   "execution_count": 15,
   "id": "2f2b52af-5057-4e46-b9b2-20e1a0260740",
   "metadata": {
    "tags": []
   },
   "outputs": [
    {
     "data": {
      "text/plain": [
       "[int]"
      ]
     },
     "execution_count": 15,
     "metadata": {},
     "output_type": "execute_result"
    }
   ],
   "source": [
    "b\n"
   ]
  },
  {
   "cell_type": "code",
   "execution_count": 17,
   "id": "c304fef7-323e-4c7e-8ea1-3b6bb0988327",
   "metadata": {
    "tags": []
   },
   "outputs": [],
   "source": [
    "import yaml\n",
    "dict_args = yaml.load(\"deploy/models/CarperAI--stable-vicuna-13b-delta.yaml\", Loader=yaml.SafeLoader)\n"
   ]
  },
  {
   "cell_type": "code",
   "execution_count": 18,
   "id": "18b2e564-7461-4ee4-bff8-31536681a2f8",
   "metadata": {
    "tags": []
   },
   "outputs": [
    {
     "data": {
      "text/plain": [
       "'deploy/models/CarperAI--stable-vicuna-13b-delta.yaml'"
      ]
     },
     "execution_count": 18,
     "metadata": {},
     "output_type": "execute_result"
    }
   ],
   "source": [
    "dict_args"
   ]
  },
  {
   "cell_type": "code",
   "execution_count": null,
   "id": "f1340592-8499-44c4-b4b2-a76756498005",
   "metadata": {},
   "outputs": [],
   "source": [
    "yaml.load"
   ]
  }
 ],
 "metadata": {
  "kernelspec": {
   "display_name": "Python 3 (ipykernel)",
   "language": "python",
   "name": "python3"
  },
  "language_info": {
   "codemirror_mode": {
    "name": "ipython",
    "version": 3
   },
   "file_extension": ".py",
   "mimetype": "text/x-python",
   "name": "python",
   "nbconvert_exporter": "python",
   "pygments_lexer": "ipython3",
   "version": "3.10.8"
  }
 },
 "nbformat": 4,
 "nbformat_minor": 5
}
